{
 "cells": [
  {
   "cell_type": "code",
   "execution_count": null,
   "id": "e484a55b",
   "metadata": {},
   "outputs": [],
   "source": [
    "import pandas as pd\n",
    "\n",
    "import tradingPerformance\n",
    "import plotGraph\n",
    "import classicalStrategy\n",
    "from TDQN import TDQN, testing\n",
    "\n",
    "import warnings\n",
    "from pandas.errors import SettingWithCopyWarning\n",
    "\n",
    "warnings.simplefilter(action='ignore', category=FutureWarning)\n",
    "warnings.simplefilter(action='ignore', category=SettingWithCopyWarning)"
   ]
  },
  {
   "cell_type": "code",
   "execution_count": null,
   "id": "d5f3eda7",
   "metadata": {},
   "outputs": [],
   "source": [
    "# %run datadownloader.py"
   ]
  },
  {
   "cell_type": "code",
   "execution_count": null,
   "id": "bc91702b",
   "metadata": {},
   "outputs": [],
   "source": [
    "stocks = {\n",
    "    'Dow Jones' : 'DIA',\n",
    "    'S&P 500' : 'SPY',\n",
    "    'NASDAQ 100' : 'QQQ',\n",
    "    'FTSE 100' : 'EZU',\n",
    "    'Nikkei 225' : 'EWJ',\n",
    "    'Google' : 'GOOGL',\n",
    "    'Apple' : 'AAPL',\n",
    "    'Meta' : 'META',\n",
    "    'Amazon' : 'AMZN',\n",
    "    'Microsoft' : 'MSFT',\n",
    "    'Nokia' : 'NOK',\n",
    "    'Philips' : 'PHIA.AS',\n",
    "    'Siemens' : 'SIE.DE',\n",
    "    'Baidu' : 'BIDU',\n",
    "    'Alibaba' : 'BABA',\n",
    "    'Tencent' : '0700.HK',\n",
    "    'Sony' : '6758.T',\n",
    "    'JPMorgan Chase' : 'JPM',\n",
    "    'HSBC' : 'HSBC',\n",
    "    'CCB' : '0939.HK',\n",
    "    'ExxonMobil' : 'XOM',\n",
    "    'Shell' : 'SHEL',\n",
    "    'PetroChina' : '0857.HK',\n",
    "    'Tesla' : 'TSLA',\n",
    "    'Volkswagen' : 'VOW3.DE',\n",
    "    'Toyota' : '7203.T',\n",
    "    'Coca Cola' : 'KO',\n",
    "    'AB InBev' : 'ABI.BR',\n",
    "    'Kirin' : '2503.T',\n",
    "    # 'Twitter' : 'TWTR' # No accessible now\n",
    "}"
   ]
  },
  {
   "cell_type": "markdown",
   "id": "e89de0d3",
   "metadata": {},
   "source": [
    "## APPLE Stock - TDQN"
   ]
  },
  {
   "cell_type": "code",
   "execution_count": null,
   "id": "2efe9259",
   "metadata": {},
   "outputs": [],
   "source": [
    "stockName, startingDate, splittingDate, endingDate = 'Apple', '2012-01-01', '2018-01-01', '2020-01-01'\n",
    "stockName = stocks[stockName]\n",
    "\n",
    "dataTraining_APPL = pd.read_csv('data/'+stockName+'_'+startingDate+'_'+splittingDate+'.csv').set_index('Date')\n",
    "dataTesting_APPL = pd.read_csv('data/'+stockName+'_'+splittingDate+'_'+endingDate+'.csv').set_index('Date')"
   ]
  },
  {
   "cell_type": "code",
   "execution_count": null,
   "id": "54da5a9d",
   "metadata": {},
   "outputs": [],
   "source": [
    "TrainingData_APPL, MainNetwork_APPL = TDQN(stockName, startingDate, splittingDate)"
   ]
  },
  {
   "cell_type": "code",
   "execution_count": null,
   "id": "1cb79e1f",
   "metadata": {},
   "outputs": [],
   "source": [
    "Training_Data_APPL, _, _ = testing(TrainingData_APPL, dataTraining_APPL, MainNetwork_APPL)\n",
    "Training_Data_APPL.index = pd.to_datetime(Training_Data_APPL.index)"
   ]
  },
  {
   "cell_type": "code",
   "execution_count": null,
   "id": "8d6bc9d3",
   "metadata": {},
   "outputs": [],
   "source": [
    "plotGraph.render(Training_Data_APPL)\n",
    "tradingPerformance.displayPerformance(Training_Data_APPL, 'TDQN')"
   ]
  },
  {
   "cell_type": "code",
   "execution_count": null,
   "id": "cebaeed7",
   "metadata": {},
   "outputs": [],
   "source": [
    "TestingData_APPL, _, _ = testing(dataTraining_APPL, dataTesting_APPL, MainNetwork_APPL)\n",
    "TestingData_APPL.index = pd.to_datetime(TestingData_APPL.index)"
   ]
  },
  {
   "cell_type": "code",
   "execution_count": null,
   "id": "7f8554b4",
   "metadata": {},
   "outputs": [],
   "source": [
    "plotGraph.render(TestingData_APPL)\n",
    "tradingPerformance.displayPerformance(TestingData_APPL, 'TDQN')"
   ]
  },
  {
   "cell_type": "code",
   "execution_count": null,
   "id": "0f14b145",
   "metadata": {},
   "outputs": [],
   "source": [
    "plotGraph.plotEntireTrading(Training_Data_APPL, TestingData_APPL)"
   ]
  },
  {
   "cell_type": "markdown",
   "id": "6d88728e",
   "metadata": {},
   "source": [
    "## TESLA Stock"
   ]
  },
  {
   "cell_type": "code",
   "execution_count": null,
   "id": "47002507",
   "metadata": {},
   "outputs": [],
   "source": [
    "stockName, startingDate, splittingDate, endingDate = 'Tesla', '2012-01-01', '2018-01-01', '2020-01-01'\n",
    "stockName = stocks[stockName]\n",
    "\n",
    "dataTraining_TSLA = pd.read_csv('data/'+stockName+'_'+startingDate+'_'+splittingDate+'.csv').set_index('Date')\n",
    "dataTesting_TSLA = pd.read_csv('data/'+stockName+'_'+splittingDate+'_'+endingDate+'.csv').set_index('Date')"
   ]
  },
  {
   "cell_type": "code",
   "execution_count": null,
   "id": "ca7333f4",
   "metadata": {},
   "outputs": [],
   "source": [
    "TrainingData_TSLA, MainNetwork_TSLA = TDQN(stockName, startingDate, splittingDate)"
   ]
  },
  {
   "cell_type": "code",
   "execution_count": null,
   "id": "22d4424d",
   "metadata": {},
   "outputs": [],
   "source": [
    "Training_Data_TSLA, _, _ = testing(TrainingData_TSLA, dataTraining_TSLA, MainNetwork_TSLA)\n",
    "Training_Data_TSLA.index = pd.to_datetime(Training_Data_TSLA.index)\n",
    "plotGraph.render(Training_Data_TSLA)\n",
    "tradingPerformance.displayPerformance(Training_Data_TSLA, 'TDQN')"
   ]
  },
  {
   "cell_type": "code",
   "execution_count": null,
   "id": "f9ec6c95",
   "metadata": {},
   "outputs": [],
   "source": [
    "TestingData_TSLA, _, _ = testing(dataTraining_TSLA, dataTesting_TSLA, MainNetwork_TSLA)\n",
    "TestingData_TSLA.index = pd.to_datetime(TestingData_TSLA.index)\n",
    "plotGraph.render(TestingData_TSLA)\n",
    "tradingPerformance.displayPerformance(TestingData_TSLA, 'TDQN')"
   ]
  },
  {
   "cell_type": "code",
   "execution_count": null,
   "id": "534d799c",
   "metadata": {},
   "outputs": [],
   "source": [
    "plotGraph.plotEntireTrading(Training_Data_TSLA, TestingData_TSLA)"
   ]
  },
  {
   "cell_type": "markdown",
   "id": "3e9045c9",
   "metadata": {},
   "source": [
    "# Simulation sur toutes les stratégies (sur 5 actions)"
   ]
  },
  {
   "cell_type": "code",
   "execution_count": null,
   "id": "89647015",
   "metadata": {},
   "outputs": [],
   "source": [
    "stock_tested = ['Apple', 'Tesla', 'S&P 500', 'Tencent', 'Volkswagen']\n",
    "strategies = ['TDQN', 'Buy and Hold', 'Sell and Hold', 'MA_TF', 'MA_MR']\n",
    "score_stocks = {stock: 0 for stock in stock_tested}"
   ]
  },
  {
   "cell_type": "code",
   "execution_count": null,
   "id": "02f9afef",
   "metadata": {},
   "outputs": [],
   "source": [
    "startingDate = '2012-01-01'\n",
    "splittingDate = '2018-01-01'\n",
    "endingDate = '2020-01-01'\n",
    "\n",
    "for stock in stock_tested:\n",
    "    scores = {strategy:0 for strategy in strategies}\n",
    "    dataTraining = pd.read_csv('data/'+stocks[stock]+'_'+startingDate+'_'+splittingDate+'.csv').set_index('Date')\n",
    "    dataTesting = pd.read_csv('data/'+stocks[stock]+'_'+splittingDate+'_'+endingDate+'.csv').set_index('Date')\n",
    "    TrainingData, MainNetwork = TDQN(stocks[stock], startingDate, splittingDate)\n",
    "    TestedData, _, _ = testing(dataTraining, dataTesting, MainNetwork)\n",
    "    score_TDQN = tradingPerformance.computeSharpeRatio(TestedData)\n",
    "    scores['TDQN'] = score_TDQN\n",
    "    scores['Buy and Hold'] = tradingPerformance.computeSharpeRatio(classicalStrategy.buy_and_hold(dataTesting))\n",
    "    scores['Sell and Hold'] = tradingPerformance.computeSharpeRatio(classicalStrategy.sell_and_hold(dataTesting))\n",
    "    scores['MA_TF'] = tradingPerformance.computeSharpeRatio(classicalStrategy.MA_TF(dataTraining, dataTesting))\n",
    "    scores['MA_MR'] = tradingPerformance.computeSharpeRatio(classicalStrategy.MA_MR(dataTraining, dataTesting))\n",
    "    print('Stock:', stock)\n",
    "    print('Scores:', scores)\n",
    "    TestedData.index = pd.to_datetime(TestedData.index)\n",
    "    plotGraph.render(TestedData, stock)\n",
    "    score_stocks[stock] = scores"
   ]
  },
  {
   "cell_type": "code",
   "execution_count": null,
   "id": "7a7d85f3",
   "metadata": {},
   "outputs": [],
   "source": [
    "score_stocks"
   ]
  }
 ],
 "metadata": {
  "kernelspec": {
   "display_name": "base",
   "language": "python",
   "name": "python3"
  },
  "language_info": {
   "codemirror_mode": {
    "name": "ipython",
    "version": 3
   },
   "file_extension": ".py",
   "mimetype": "text/x-python",
   "name": "python",
   "nbconvert_exporter": "python",
   "pygments_lexer": "ipython3",
   "version": "3.12.7"
  }
 },
 "nbformat": 4,
 "nbformat_minor": 5
}
